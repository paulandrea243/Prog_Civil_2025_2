{
  "cells": [
    {
      "cell_type": "markdown",
      "metadata": {
        "id": "view-in-github",
        "colab_type": "text"
      },
      "source": [
        "<a href=\"https://colab.research.google.com/github/paulandrea243/Prog_Civil_2025_2/blob/main/Te_damos_la_bienvenida_a_Colaboratory.ipynb\" target=\"_parent\"><img src=\"https://colab.research.google.com/assets/colab-badge.svg\" alt=\"Open In Colab\"/></a>"
      ]
    },
    {
      "cell_type": "code",
      "metadata": {
        "colab": {
          "base_uri": "https://localhost:8080/"
        },
        "id": "20c59890",
        "outputId": "5b7709cf-5e35-4b74-dd5e-48e973d860da"
      },
      "source": [
        "def calcular_peso(densidades, material, volumen):\n",
        "  \"\"\"Calcula el peso de un objeto dado su material y volumen.\n",
        "\n",
        "  Args:\n",
        "    densidades: Diccionario con las densidades de los materiales.\n",
        "    material: Nombre del material del objeto.\n",
        "    volumen: Volumen del objeto en m³.\n",
        "\n",
        "  Returns:\n",
        "    El peso del objeto en kg si el material existe en el diccionario,\n",
        "    o None si el material no se encuentra.\n",
        "  \"\"\"\n",
        "  if material in densidades:\n",
        "    peso = densidades[material] * volumen\n",
        "    return peso\n",
        "  else:\n",
        "    return None\n",
        "\n",
        "# Base de datos de densidades\n",
        "densidades = {\n",
        "    \"acero\": 7850,\n",
        "    \"concreto\": 2400,\n",
        "    \"madera\": 700\n",
        "}\n",
        "\n",
        "# Programa principal\n",
        "material_input = input(\"Ingrese el tipo de material (acero, concreto, madera): \").lower()\n",
        "\n",
        "# Asumiendo un prisma rectangular para el cálculo del volumen\n",
        "try:\n",
        "    largo = float(input(\"Ingrese el largo del elemento en metros: \"))\n",
        "    ancho = float(input(\"Ingrese el ancho del elemento en metros: \"))\n",
        "    alto = float(input(\"Ingrese el alto del elemento en metros: \"))\n",
        "\n",
        "    volumen = largo * ancho * alto\n",
        "\n",
        "    peso_calculado = calcular_peso(densidades, material_input, volumen)\n",
        "\n",
        "    if peso_calculado is not None:\n",
        "      print(f\"El peso del elemento de {material_input} con un volumen de {volumen:.2f} m³ es: {peso_calculado:.2f} kg\")\n",
        "    else:\n",
        "      print(f\"Material '{material_input}' no encontrado en la base de datos de densidades.\")\n",
        "\n",
        "except ValueError:\n",
        "    print(\"Entrada inválida. Por favor ingrese valores numéricos para las dimensiones.\")"
      ],
      "execution_count": 6,
      "outputs": [
        {
          "output_type": "stream",
          "name": "stdout",
          "text": [
            "Ingrese el tipo de material (acero, concreto, madera): acero\n",
            "Ingrese el largo del elemento en metros: 12\n",
            "Ingrese el ancho del elemento en metros: 5\n",
            "Ingrese el alto del elemento en metros: 1\n",
            "El peso del elemento de acero con un volumen de 60.00 m³ es: 471000.00 kg\n"
          ]
        }
      ]
    }
  ],
  "metadata": {
    "colab": {
      "name": "Te damos la bienvenida a Colaboratory",
      "provenance": [],
      "include_colab_link": true
    },
    "kernelspec": {
      "display_name": "Python 3",
      "name": "python3"
    }
  },
  "nbformat": 4,
  "nbformat_minor": 0
}