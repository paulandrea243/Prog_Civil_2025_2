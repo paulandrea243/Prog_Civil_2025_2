{
  "cells": [
    {
      "cell_type": "markdown",
      "metadata": {
        "id": "view-in-github",
        "colab_type": "text"
      },
      "source": [
        "<a href=\"https://colab.research.google.com/github/paulandrea243/Prog_Civil_2025_2/blob/main/que_son_las_listas%2C_duplas_y_diccionarios_en_pyth_.ipynb\" target=\"_parent\"><img src=\"https://colab.research.google.com/assets/colab-badge.svg\" alt=\"Open In Colab\"/></a>"
      ]
    },
    {
      "cell_type": "markdown",
      "source": [
        "Las listas, tuplas y diccionarios son tipos de datos fundamentales en Python para almacenar colecciones de elementos. A continuación, se explican sus características y se muestran ejemplos de cada uno.\n",
        "\n",
        "## Listas (Lists)\n",
        "\n",
        "Las **listas** son colecciones ordenadas y **mutables** de elementos. Esto significa que puedes cambiar, añadir o eliminar elementos después de crear la lista. Se definen utilizando corchetes `[]` y los elementos se separan por comas. Las listas pueden contener elementos de diferentes tipos de datos (enteros, cadenas, flotantes, etc.).\n",
        "\n",
        "**Ejemplo:**"
      ],
      "metadata": {
        "id": "yA9zkPHjN8JK"
      }
    },
    {
      "cell_type": "code",
      "source": [
        "# Creación de una lista de frutas\n",
        "frutas = [\"manzana\", \"banana\", \"cereza\"]\n",
        "print(frutas)  # Salida: ['manzana', 'banana', 'cereza']\n",
        "\n",
        "# Acceso a un elemento por su índice (la indexación comienza en 0)\n",
        "print(frutas[1])  # Salida: banana\n",
        "\n",
        "# Modificación de un elemento\n",
        "frutas[0] = \"uva\"\n",
        "print(frutas)  # Salida: ['uva', 'banana', 'cereza']\n",
        "\n",
        "# Añadir un nuevo elemento\n",
        "frutas.append(\"naranja\")\n",
        "print(frutas)  # Salida: ['uva', 'banana', 'cereza', 'naranja']"
      ],
      "outputs": [],
      "execution_count": null,
      "metadata": {
        "id": "ZTDXeb4ON8JP"
      }
    },
    {
      "cell_type": "markdown",
      "source": [
        "-----\n",
        "\n",
        "## Tuplas (Tuples)\n",
        "\n",
        "Las **tuplas** son colecciones ordenadas e **inmutables**. Una vez que se crea una tupla, no se pueden modificar sus elementos. Se definen utilizando paréntesis `()` y, al igual que las listas, los elementos se separan por comas. Son más rápidas que las listas y se usan para datos que no deben cambiar.\n",
        "\n",
        "**Ejemplo:**"
      ],
      "metadata": {
        "id": "9nTSslG4N8JR"
      }
    },
    {
      "cell_type": "code",
      "source": [
        "# Creación de una tupla de coordenadas\n",
        "coordenadas = (10, 20)\n",
        "print(coordenadas)  # Salida: (10, 20)\n",
        "\n",
        "# Acceso a un elemento\n",
        "print(coordenadas[0])  # Salida: 10\n",
        "\n",
        "# Intentar modificar un elemento causará un error\n",
        "# coordenadas[0] = 5  # Esto generará un TypeError"
      ],
      "outputs": [],
      "execution_count": null,
      "metadata": {
        "id": "h6P6rhRaN8JS"
      }
    },
    {
      "cell_type": "markdown",
      "source": [
        "-----\n",
        "\n",
        "## Diccionarios (Dictionaries)\n",
        "\n",
        "Los **diccionarios** son colecciones **no ordenadas** y **mutables** de pares de **clave-valor**. Cada valor está asociado a una clave única, lo que permite un acceso rápido a los datos. Se definen utilizando llaves `{}`. Las claves deben ser únicas e inmutables (como cadenas, números o tuplas), mientras que los valores pueden ser de cualquier tipo de dato.\n",
        "\n",
        "**Ejemplo:**"
      ],
      "metadata": {
        "id": "M-43qVkzN8JS"
      }
    },
    {
      "cell_type": "code",
      "source": [
        "# Creación de un diccionario de información de una persona\n",
        "persona = {\n",
        "    \"nombre\": \"Juan\",\n",
        "    \"edad\": 30,\n",
        "    \"ciudad\": \"Madrid\"\n",
        "}\n",
        "print(persona)  # Salida: {'nombre': 'Juan', 'edad': 30, 'ciudad': 'Madrid'}\n",
        "\n",
        "# Acceso a un valor usando su clave\n",
        "print(persona[\"nombre\"])  # Salida: Juan\n",
        "\n",
        "# Modificación de un valor\n",
        "persona[\"edad\"] = 31\n",
        "print(persona)  # Salida: {'nombre': 'Juan', 'edad': 31, 'ciudad': 'Madrid'}\n",
        "\n",
        "# Añadir un nuevo par clave-valor\n",
        "persona[\"ocupacion\"] = \"ingeniero\"\n",
        "print(persona)  # Salida: {'nombre': 'Juan', 'edad': 31, 'ciudad': 'Madrid', 'ocupacion': 'ingeniero'}"
      ],
      "outputs": [],
      "execution_count": null,
      "metadata": {
        "id": "uR74co5hN8JT"
      }
    }
  ],
  "metadata": {
    "colab": {
      "provenance": [],
      "include_colab_link": true
    },
    "kernelspec": {
      "display_name": "Python 3",
      "name": "python3"
    }
  },
  "nbformat": 4,
  "nbformat_minor": 0
}