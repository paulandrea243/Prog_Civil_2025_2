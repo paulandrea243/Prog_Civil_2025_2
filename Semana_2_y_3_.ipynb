{
  "nbformat": 4,
  "nbformat_minor": 0,
  "metadata": {
    "colab": {
      "provenance": [],
      "authorship_tag": "ABX9TyMQMwBOtJwYEOjy3hKa0dJG",
      "include_colab_link": true
    },
    "kernelspec": {
      "name": "python3",
      "display_name": "Python 3"
    },
    "language_info": {
      "name": "python"
    }
  },
  "cells": [
    {
      "cell_type": "markdown",
      "metadata": {
        "id": "view-in-github",
        "colab_type": "text"
      },
      "source": [
        "<a href=\"https://colab.research.google.com/github/paulandrea243/Prog_Civil_2025_2/blob/main/Semana_2_y_3_.ipynb\" target=\"_parent\"><img src=\"https://colab.research.google.com/assets/colab-badge.svg\" alt=\"Open In Colab\"/></a>"
      ]
    },
    {
      "cell_type": "markdown",
      "source": [
        "* Situación 1: Clasificador de pH del Suelo\n",
        "\n",
        "El pH del suelo es un factor crítico para la absorción de\n",
        "nutrientes por parte de las plantas. Desarrollarás un programa que recibe un valor de pH e informa al\n",
        "agricultor si el suelo es ácido, neutro o alcalino, ofreciendo una recomendación general"
      ],
      "metadata": {
        "id": "l--IfRg4_d7F"
      }
    },
    {
      "cell_type": "code",
      "source": [
        "# Explicar al usuario que el programa clasifica el pH del suelo.\n",
        "print(\"Este programa clasifica el pH del suelo.\")\n",
        "\n",
        "# Pedir al usuario que ingrese el valor de pH medido (puede ser decimal).\n",
        "# Guardar el valor en una variable.\n",
        "while True:\n",
        "    pH_str = input(\"Ingrese el valor de pH medido: \")\n",
        "    if not pH_str:\n",
        "        print(\"Por favor, ingrese un valor de pH.\")\n",
        "    else:\n",
        "        try:\n",
        "            pH = float(pH_str)\n",
        "            break  # Exit the loop if conversion is successful\n",
        "        except ValueError:\n",
        "            print(\"Entrada inválida. Por favor ingrese un número válido.\")\n",
        "\n",
        "# Clasificar el pH y dar recomendaciones\n",
        "if pH < 7.0:\n",
        "    print(\"El suelo es ácido.\")\n",
        "    print(\"Recomendación: Considerar el uso de cal agrícola para aumentar el pH.\")\n",
        "elif pH == 7.0:\n",
        "    print(\"El suelo es neutro.\")\n",
        "    print(\"Recomendación: Es ideal para la mayoría de los cultivos.\")\n",
        "else: # pH > 7.0\n",
        "    print(\"El suelo es alcalino.\")\n",
        "    print(\"Recomendación: Considerar el uso de fertilizantes para disminuir el pH.\")"
      ],
      "metadata": {
        "colab": {
          "base_uri": "https://localhost:8080/"
        },
        "id": "pNQf4UXZENSQ",
        "outputId": "7a1d8ee0-1e9c-4c83-ab80-f5dbf177bb17"
      },
      "execution_count": null,
      "outputs": [
        {
          "output_type": "stream",
          "name": "stdout",
          "text": [
            "Este programa clasifica el pH del suelo.\n",
            "Ingrese el valor de pH medido: 7\n",
            "El suelo es neutro.\n",
            "Recomendación: Es ideal para la mayoría de los cultivos.\n"
          ]
        }
      ]
    },
    {
      "cell_type": "code",
      "source": [],
      "metadata": {
        "id": "buJM9rQOIm0N"
      },
      "execution_count": null,
      "outputs": []
    }
  ]
}