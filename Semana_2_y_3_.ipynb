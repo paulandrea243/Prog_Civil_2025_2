{
  "nbformat": 4,
  "nbformat_minor": 0,
  "metadata": {
    "colab": {
      "provenance": [],
      "authorship_tag": "ABX9TyOItDd9X2i5FDYqvdQvBId8",
      "include_colab_link": true
    },
    "kernelspec": {
      "name": "python3",
      "display_name": "Python 3"
    },
    "language_info": {
      "name": "python"
    }
  },
  "cells": [
    {
      "cell_type": "markdown",
      "metadata": {
        "id": "view-in-github",
        "colab_type": "text"
      },
      "source": [
        "<a href=\"https://colab.research.google.com/github/paulandrea243/Prog_Civil_2025_2/blob/main/Semana_2_y_3_.ipynb\" target=\"_parent\"><img src=\"https://colab.research.google.com/assets/colab-badge.svg\" alt=\"Open In Colab\"/></a>"
      ]
    },
    {
      "cell_type": "markdown",
      "source": [
        "* Situación 1: Clasificador de pH del Suelo\n",
        "\n",
        "El pH del suelo es un factor crítico para la absorción de\n",
        "nutrientes por parte de las plantas. Desarrollarás un programa que recibe un valor de pH e informa al\n",
        "agricultor si el suelo es ácido, neutro o alcalino, ofreciendo una recomendación general"
      ],
      "metadata": {
        "id": "l--IfRg4_d7F"
      }
    },
    {
      "cell_type": "code",
      "source": [
        "# Explicar al usuario que el programa clasifica el pH del suelo.\n",
        "print(\"Este programa clasifica el pH del suelo.\")\n",
        "\n",
        "# Pedir al usuario que ingrese el valor de pH medido (puede ser decimal).\n",
        "# Guardar el valor en una variable.\n",
        "while True:\n",
        "    pH_str = input(\"Ingrese el valor de pH medido: \")\n",
        "    if not pH_str:\n",
        "        print(\"Por favor, ingrese un valor de pH.\")\n",
        "    else:\n",
        "        try:\n",
        "            pH = float(pH_str)\n",
        "            break  # Exit the loop if conversion is successful\n",
        "        except ValueError:\n",
        "            print(\"Entrada inválida. Por favor ingrese un número válido.\")\n",
        "\n",
        "# Clasificar el pH y dar recomendaciones\n",
        "if pH < 7.0:\n",
        "    print(\"El suelo es ácido.\")\n",
        "    print(\"Recomendación: Considerar el uso de cal agrícola para aumentar el pH.\")\n",
        "elif pH == 7.0:\n",
        "    print(\"El suelo es neutro.\")\n",
        "    print(\"Recomendación: Es ideal para la mayoría de los cultivos.\")\n",
        "else: # pH > 7.0\n",
        "    print(\"El suelo es alcalino.\")\n",
        "    print(\"Recomendación: Considerar el uso de fertilizantes para disminuir el pH.\")"
      ],
      "metadata": {
        "colab": {
          "base_uri": "https://localhost:8080/"
        },
        "id": "pNQf4UXZENSQ",
        "outputId": "7a1d8ee0-1e9c-4c83-ab80-f5dbf177bb17"
      },
      "execution_count": null,
      "outputs": [
        {
          "output_type": "stream",
          "name": "stdout",
          "text": [
            "Este programa clasifica el pH del suelo.\n",
            "Ingrese el valor de pH medido: 7\n",
            "El suelo es neutro.\n",
            "Recomendación: Es ideal para la mayoría de los cultivos.\n"
          ]
        }
      ]
    },
    {
      "cell_type": "code",
      "source": [],
      "metadata": {
        "id": "buJM9rQOIm0N"
      },
      "execution_count": null,
      "outputs": []
    },
    {
      "cell_type": "markdown",
      "source": [
        "# Situación 1: Verificación de Resistencia de Concreto Un laboratorio de materiales ensaya probetas\n",
        "de concreto a los 28 días. El concreto es de tipo “G-25”, lo que significa que debe tener una resistencia mínima\n",
        "de 25 MPa.\n",
        "\n",
        " El programa debe indicar si la probeta cumple, está por debajo o supera excepcionalmente la\n",
        "norma (más de 30 MPa).\n",
        "\n",
        "Paso a Paso del Código (Guía para el Notebook)\n",
        "1. # Explicar que el programa verifica la resistencia de una probeta de concreto.\n",
        "2. # Pedir al usuario que ingrese la resistencia obtenida en el ensayo (en MPa).\n",
        "3. # Almacenar el resultado en una variable.\n",
        "4. # Usar una condición 'if' para ver si la resistencia es menor a 25.\n",
        "5. # Si es así, imprimir \"NO CUMPLE con la norma G-25\".\n",
        "6. # Usar una condición 'elif' para ver si la resistencia es mayor o igual a 25 Y a\n",
        "la vez menor o igual a 30.\n",
        "7. # Si es así, imprimir \"CUMPLE con la norma G-25\".\n",
        "8. # Usar 'else' para el caso restante (mayor a 30).\n",
        "9. # En el 'else', imprimir \"CUMPLE y supera excepcionalmente la norma G-25\".\n",
        "\n"
      ],
      "metadata": {
        "id": "qa7AgsYuKbTa"
      }
    },
    {
      "cell_type": "code",
      "source": [],
      "metadata": {
        "id": "Y0Vdu-agLErK"
      },
      "execution_count": null,
      "outputs": []
    },
    {
      "cell_type": "code",
      "metadata": {
        "colab": {
          "base_uri": "https://localhost:8080/"
        },
        "id": "f6800605",
        "outputId": "b414c088-c261-4af2-fb9c-f0563a2fedde"
      },
      "source": [
        "# Explicar que el programa verifica la resistencia de una probeta de concreto.\n",
        "print(\"Este programa verifica la resistencia de una probeta de concreto.\")\n",
        "\n",
        "# Pedir al usuario que ingrese la resistencia obtenida en el ensayo (en MPa).\n",
        "# Almacenar el resultado en una variable.\n",
        "while True:\n",
        "    resistencia_str = input(\"Ingrese la resistencia obtenida en el ensayo (en MPa): \")\n",
        "    if not resistencia_str:\n",
        "        print(\"Por favor, ingrese un valor de resistencia.\")\n",
        "    else:\n",
        "        try:\n",
        "            resistencia = float(resistencia_str)\n",
        "            break  # Exit the loop if conversion is successful\n",
        "        except ValueError:\n",
        "            print(\"Entrada inválida. Por favor ingrese un número válido.\")\n",
        "\n",
        "# Usar una condición 'if' para ver si la resistencia es menor a 25.\n",
        "if resistencia < 25:\n",
        "    # Si es así, imprimir \"NO CUMPLE con la norma G-25\".\n",
        "    print(\"NO CUMPLE con la norma G-25\")\n",
        "# Usar una condición 'elif' para ver si la resistencia es mayor o igual a 25 Y a\n",
        "# la vez menor o igual a 30.\n",
        "elif 25 <= resistencia <= 30:\n",
        "    # Si es así, imprimir \"CUMPLE con la norma G-25\".\n",
        "    print(\"CUMPLE con la norma G-25\")\n",
        "# Usar 'else' para el caso restante (mayor a 30).\n",
        "else: # resistencia > 30\n",
        "    # En el 'else', imprimir \"CUMPLE y supera excepcionalmente la norma G-25\".\n",
        "    print(\"CUMPLE y supera excepcionalmente la norma G-25\")"
      ],
      "execution_count": 10,
      "outputs": [
        {
          "output_type": "stream",
          "name": "stdout",
          "text": [
            "Este programa verifica la resistencia de una probeta de concreto.\n",
            "Ingrese la resistencia obtenida en el ensayo (en MPa): 100\n",
            "CUMPLE y supera excepcionalmente la norma G-25\n"
          ]
        }
      ]
    },
    {
      "cell_type": "markdown",
      "source": [
        "# Situación 2: Cálculo de Carga Acumulada en una Columna\n",
        "\n",
        "Una columna soporta las cargas de varios pisos de un edificio. Debes crear un programa que pregunte cuántos pisos hay y luego pida la carga\n",
        "de cada piso para finalmente calcular la carga total que llega a la cimentación.\n",
        "\n",
        "• Paso a Paso del Código (Guía para el Notebook)\n",
        "1. # Inicializar una variable para la carga total en 0.\n",
        "2. # Preguntar al usuario cuántos pisos tiene el edificio.\n",
        "3. # Guardar el número de pisos en una variable.\n",
        "4. # Crear un bucle 'for' que se ejecute tantas veces como el número de pisos.\n",
        "5. # Dentro del bucle, pedir al usuario la carga del piso actual en toneladas (ej.,\n",
        "\"Ingrese la carga del piso 1:\").\n",
        "6. # Añadir esta carga a la variable de carga total.\n",
        "7. # Una vez finalizado el bucle, mostrar la carga total acumulada que la columna\n",
        "transmite a la cimentación."
      ],
      "metadata": {
        "id": "GccI_7M1O7xm"
      }
    },
    {
      "cell_type": "code",
      "metadata": {
        "colab": {
          "base_uri": "https://localhost:8080/"
        },
        "id": "678e07bc",
        "outputId": "1bd076e9-9700-4168-bce1-6912d1a6017e"
      },
      "source": [
        "# Inicializar una variable para la carga total en 0.\n",
        "carga_total = 0\n",
        "\n",
        "# Preguntar al usuario cuántos pisos tiene el edificio.\n",
        "while True:\n",
        "    num_pisos_str = input(\"¿Cuántos pisos tiene el edificio? \")\n",
        "    if not num_pisos_str:\n",
        "        print(\"Por favor, ingrese el número de pisos.\")\n",
        "    else:\n",
        "        try:\n",
        "            num_pisos = int(num_pisos_str)\n",
        "            if num_pisos <= 0:\n",
        "                print(\"El número de pisos debe ser mayor a cero.\")\n",
        "            else:\n",
        "                break  # Exit the loop if conversion is successful and number of floors is positive\n",
        "        except ValueError:\n",
        "            print(\"Entrada inválida. Por favor ingrese un número entero válido.\")\n",
        "\n",
        "\n",
        "# Crear un bucle 'for' que se ejecute tantas veces como el número de pisos.\n",
        "for i in range(1, num_pisos + 1):\n",
        "    # Dentro del bucle, pedir al usuario la carga del piso actual en toneladas\n",
        "    while True:\n",
        "        carga_piso_str = input(f\"Ingrese la carga del piso {i} (en toneladas): \")\n",
        "        if not carga_piso_str:\n",
        "            print(\"Por favor, ingrese la carga del piso.\")\n",
        "        else:\n",
        "            try:\n",
        "                carga_piso = float(carga_piso_str)\n",
        "                # Añadir esta carga a la variable de carga total.\n",
        "                carga_total += carga_piso\n",
        "                break # Exit the inner loop if conversion is successful\n",
        "            except ValueError:\n",
        "                print(\"Entrada inválida. Por favor ingrese un número válido.\")\n",
        "\n",
        "# Una vez finalizado el bucle, mostrar la carga total acumulada.\n",
        "print(f\"\\nLa carga total acumulada en la columna es: {carga_total} toneladas\")"
      ],
      "execution_count": 11,
      "outputs": [
        {
          "output_type": "stream",
          "name": "stdout",
          "text": [
            "¿Cuántos pisos tiene el edificio? 3\n",
            "Ingrese la carga del piso 1 (en toneladas): 123\n",
            "Ingrese la carga del piso 2 (en toneladas): 342\n",
            "Ingrese la carga del piso 3 (en toneladas): 456\n",
            "\n",
            "La carga total acumulada en la columna es: 921.0 toneladas\n"
          ]
        }
      ]
    }
  ]
}